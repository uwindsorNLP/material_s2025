{
  "nbformat": 4,
  "nbformat_minor": 0,
  "metadata": {
    "colab": {
      "provenance": []
    },
    "kernelspec": {
      "name": "python3",
      "display_name": "Python 3"
    },
    "language_info": {
      "name": "python"
    }
  },
  "cells": [
    {
      "cell_type": "markdown",
      "source": [
        "# Step 0: Importing Required Packages"
      ],
      "metadata": {
        "id": "V5aO7GAJodY-"
      }
    },
    {
      "cell_type": "code",
      "source": [
        "import pandas as pd\n",
        "import gensim\n",
        "from scipy import stats"
      ],
      "metadata": {
        "id": "kp3Verrpoovo"
      },
      "execution_count": 28,
      "outputs": []
    },
    {
      "cell_type": "markdown",
      "source": [
        "# Step 1: Data Loading"
      ],
      "metadata": {
        "id": "aLL8thlcnchC"
      }
    },
    {
      "cell_type": "code",
      "execution_count": 29,
      "metadata": {
        "id": "eqyaIczBnZ8q"
      },
      "outputs": [],
      "source": [
        "news_df = pd.read_csv(\"reddit_worldnews.csv\")"
      ]
    },
    {
      "cell_type": "markdown",
      "source": [
        "# Step 2: Data Preprocessing"
      ],
      "metadata": {
        "id": "r8wfuo4SpJ99"
      }
    },
    {
      "cell_type": "code",
      "source": [
        "def preprocess_df(df: pd.Series) -> pd.DataFrame:\n",
        "    \"\"\"\n",
        "    Preprocess the input DataFrame.\n",
        "\n",
        "    This function should perform text preprocessing task which may include:\n",
        "      - Converting text to lowercase\n",
        "      - Removing punctuations and whitespaces\n",
        "      - Removing stopwords\n",
        "      - Stemming or Lemmatizing\n",
        "      - (Other preprocessing steps as you wish)\n",
        "\n",
        "    Parameters:\n",
        "        df (pd.DataFrame): A DataFrame containing at least a column\n",
        "\n",
        "    Returns:\n",
        "        pd.DataFrame: The DataFrame with the preprocessed column.\n",
        "    \"\"\"\n",
        "\n",
        "    # TODO: Implement the preprocessing logic\n",
        "    # df = df.str.lower()  # Convert to lowercase\n",
        "    # You can extend this with additional preprocessing steps.\n",
        "\n",
        "    # Example (simple preprocessing):\n",
        "    df = df.apply(gensim.utils.simple_preprocess)\n",
        "\n",
        "    return df\n",
        "\n",
        "processed_df = preprocess_df(news_df['title'])"
      ],
      "metadata": {
        "id": "JwWuWnrKMTBR"
      },
      "execution_count": 30,
      "outputs": []
    },
    {
      "cell_type": "markdown",
      "source": [
        "# Step 3: Building the Model\n",
        "\n",
        "**Parameters:**\n",
        "\n",
        "**vector_size** = (int) - Dimensionality of the feature vectors.\n",
        "\n",
        "**alpha** = (float) - The initial learning rate\n",
        "\n",
        "**window** = (int) - The maximum distance between the current and predicted word within a sentence.\n",
        "\n",
        "**min_count** = (int) - Ignores all words with total frequency lower than this.\n",
        "\n",
        "**epochs** = (int) - Number of iterations over the whole dataset\n",
        "\n",
        "\n",
        "more info: https://www.kaggle.com/code/pierremegret/gensim-word2vec-tutorial#Training-the-model"
      ],
      "metadata": {
        "id": "WkkIjQNJ1ZGa"
      }
    },
    {
      "cell_type": "code",
      "source": [
        "model = gensim.models.Word2Vec(\n",
        "        window=******,\n",
        "        vector_size=******,\n",
        "        alpha=******,\n",
        "        min_count=******,\n",
        "        epochs=******\n",
        "        )\n",
        "\n",
        "model.build_vocab(processed_df)"
      ],
      "metadata": {
        "id": "ISlY5L3_1fth"
      },
      "execution_count": 11,
      "outputs": []
    },
    {
      "cell_type": "markdown",
      "source": [
        "# Step 4: Training the Model"
      ],
      "metadata": {
        "id": "MfI3vQLL-Ta9"
      }
    },
    {
      "cell_type": "code",
      "source": [
        "model.train(processed_df, total_examples=model.corpus_count, epochs=model.epochs)"
      ],
      "metadata": {
        "id": "GncxfTx0_XlA"
      },
      "execution_count": null,
      "outputs": []
    },
    {
      "cell_type": "markdown",
      "source": [
        "# Step 5: Testing the Model"
      ],
      "metadata": {
        "id": "q-CU13ay_eGA"
      }
    },
    {
      "cell_type": "code",
      "source": [
        "df_test = pd.read_csv(\"wordsim353crowd.csv\")\n",
        "df_test['Human (Mean)']/=df_test['Human (Mean)'].max()\n",
        "predictions = []\n",
        "gt_list = []\n",
        "missed_pairs = 0\n",
        "for row in df_test.iterrows():\n",
        "  try:\n",
        "    model_output = model.wv.similarity(w1=row[1]['Word 1'], w2=row[1]['Word 2'])\n",
        "    predictions.append(model_output)\n",
        "    gt_list.append(row[1]['Human (Mean)'])\n",
        "  except:\n",
        "    missed_pairs+=1\n",
        "spearmanr_score = stats.spearmanr(predictions, gt_list)\n",
        "print(\"___** FINAL RESULTS **___\\n\")\n",
        "print(f'missed_pairs: {missed_pairs}')\n",
        "print(f'spearmanr_score: {spearmanr_score.statistic}')"
      ],
      "metadata": {
        "id": "I5D50ylB_ebY"
      },
      "execution_count": null,
      "outputs": []
    }
  ]
}
