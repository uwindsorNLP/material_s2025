{
  "cells": [
    {
      "cell_type": "markdown",
      "metadata": {
        "id": "u835KbBoak_F"
      },
      "source": [
        "**pretrained embedding model**"
      ]
    },
    {
      "cell_type": "code",
      "execution_count": 36,
      "metadata": {
        "id": "Eh-EKDMGatB0"
      },
      "outputs": [],
      "source": [
        "import gensim\n",
        "import pandas as pd\n",
        "import gensim.downloader as api"
      ]
    },
    {
      "cell_type": "code",
      "execution_count": null,
      "metadata": {
        "colab": {
          "base_uri": "https://localhost:8080/"
        },
        "id": "0ApznlZ7a-Rc",
        "outputId": "7b69cedb-13c1-4f77-aef4-d104ba6f4d3d"
      },
      "outputs": [
        {
          "output_type": "stream",
          "name": "stdout",
          "text": [
            "__testing_word2vec-matrix-synopsis (-1 records): [THIS IS ONLY FOR TESTING] Word vecrors ...\n",
            "conceptnet-numberbatch-17-06-300 (1917247 records): ConceptNet Numberbatch consists of state...\n",
            "fasttext-wiki-news-subwords-300 (999999 records): 1 million word vectors trained on Wikipe...\n",
            "glove-twitter-100 (1193514 records): Pre-trained vectors based on  2B tweets,...\n",
            "glove-twitter-200 (1193514 records): Pre-trained vectors based on 2B tweets, ...\n",
            "glove-twitter-25 (1193514 records): Pre-trained vectors based on 2B tweets, ...\n",
            "glove-twitter-50 (1193514 records): Pre-trained vectors based on 2B tweets, ...\n",
            "glove-wiki-gigaword-100 (400000 records): Pre-trained vectors based on Wikipedia 2...\n",
            "glove-wiki-gigaword-200 (400000 records): Pre-trained vectors based on Wikipedia 2...\n",
            "glove-wiki-gigaword-300 (400000 records): Pre-trained vectors based on Wikipedia 2...\n",
            "glove-wiki-gigaword-50 (400000 records): Pre-trained vectors based on Wikipedia 2...\n",
            "word2vec-google-news-300 (3000000 records): Pre-trained vectors trained on a part of...\n",
            "word2vec-ruscorpora-300 (184973 records): Word2vec Continuous Skipgram vectors tra...\n"
          ]
        }
      ],
      "source": [
        "info= api.info()\n",
        "for model_name, model_data in sorted(info[\"models\"].items()):\n",
        "  print(\n",
        "      '%s (%d records): %s' % (\n",
        "          model_name,\n",
        "          model_data.get('num_records', -1),\n",
        "          model_data['description'][:40] + '...'\n",
        "      )\n",
        "  )"
      ]
    },
    {
      "cell_type": "code",
      "execution_count": null,
      "metadata": {
        "colab": {
          "base_uri": "https://localhost:8080/"
        },
        "id": "bCylFSUdcJRl",
        "outputId": "c856d05d-d253-4173-d0f2-fa57ef0bc23d"
      },
      "outputs": [
        {
          "output_type": "stream",
          "name": "stdout",
          "text": [
            "[==================================================] 100.0% 1662.8/1662.8MB downloaded\n"
          ]
        }
      ],
      "source": [
        "w2v = api.load('word2vec-google-news-300')"
      ]
    },
    {
      "cell_type": "code",
      "execution_count": null,
      "metadata": {
        "colab": {
          "base_uri": "https://localhost:8080/"
        },
        "id": "MZzKYW-LcdLz",
        "outputId": "999ea51f-c744-4050-84b4-a84cd584b3c2"
      },
      "outputs": [
        {
          "output_type": "stream",
          "name": "stdout",
          "text": [
            "[==================================================] 100.0% 199.5/199.5MB downloaded\n"
          ]
        }
      ],
      "source": [
        "glove = api.load('glove-twitter-50')"
      ]
    },
    {
      "cell_type": "code",
      "execution_count": null,
      "metadata": {
        "colab": {
          "background_save": true,
          "base_uri": "https://localhost:8080/"
        },
        "id": "--yLBPsncoiM",
        "outputId": "360bc603-aad5-412e-ff8f-52721b299e77"
      },
      "outputs": [
        {
          "name": "stdout",
          "output_type": "stream",
          "text": [
            "[==================================================] 100.0% 958.5/958.4MB downloaded\n"
          ]
        }
      ],
      "source": [
        "fasttext = api.load('fasttext-wiki-news-subwords-300')"
      ]
    },
    {
      "cell_type": "code",
      "execution_count": null,
      "metadata": {
        "colab": {
          "base_uri": "https://localhost:8080/"
        },
        "id": "oh5UhQ1jc1o5",
        "outputId": "910f882a-1000-4619-b9b2-2d548734a0ca"
      },
      "outputs": [
        {
          "data": {
            "text/plain": [
              "[('Tea', 0.7009038329124451),\n",
              " ('teas', 0.6727380156517029),\n",
              " ('shape_Angius', 0.6323482990264893),\n",
              " ('activist_Jamie_Radtke', 0.5863860249519348),\n",
              " ('decaffeinated_brew', 0.5839536190032959),\n",
              " ('planter_bungalow', 0.575829029083252),\n",
              " ('herbal_tea', 0.5731174349784851),\n",
              " ('coffee', 0.5635291934013367),\n",
              " ('jasmine_tea', 0.548339307308197),\n",
              " ('Tea_NASDAQ_PEET', 0.5402544140815735)]"
            ]
          },
          "execution_count": 67,
          "metadata": {},
          "output_type": "execute_result"
        }
      ],
      "source": [
        "w2v.most_similar('tea')"
      ]
    },
    {
      "cell_type": "code",
      "execution_count": 39,
      "metadata": {
        "id": "-E0nYxZdc7gD",
        "colab": {
          "base_uri": "https://localhost:8080/"
        },
        "outputId": "1826c19c-edc4-4e87-ea88-a82340ac434c"
      },
      "outputs": [
        {
          "output_type": "execute_result",
          "data": {
            "text/plain": [
              "[('prince', 0.8582577109336853),\n",
              " ('jack', 0.8346864581108093),\n",
              " ('aka', 0.832629382610321),\n",
              " ('mr.', 0.807805061340332),\n",
              " ('the', 0.8043431043624878),\n",
              " ('john', 0.8034776449203491),\n",
              " (\"'s\", 0.7829488515853882),\n",
              " ('jackson', 0.7796576619148254),\n",
              " ('from', 0.779649019241333),\n",
              " ('legend', 0.7787959575653076)]"
            ]
          },
          "metadata": {},
          "execution_count": 39
        }
      ],
      "source": [
        "glove.most_similar('king')"
      ]
    },
    {
      "cell_type": "code",
      "execution_count": null,
      "metadata": {
        "id": "xDaj8SfYc9zU"
      },
      "outputs": [],
      "source": [
        "fasttext.most_similar('tea')"
      ]
    },
    {
      "cell_type": "code",
      "execution_count": null,
      "metadata": {
        "id": "1MzGPcaGdBek"
      },
      "outputs": [],
      "source": [
        "w2v.distance('tea','coffee')"
      ]
    },
    {
      "cell_type": "code",
      "execution_count": 40,
      "metadata": {
        "id": "R4Fbr0FNdG12",
        "colab": {
          "base_uri": "https://localhost:8080/"
        },
        "outputId": "9fb8a5a8-3889-4723-dd36-573ae37a0f35"
      },
      "outputs": [
        {
          "output_type": "execute_result",
          "data": {
            "text/plain": [
              "0.5254092812538147"
            ]
          },
          "metadata": {},
          "execution_count": 40
        }
      ],
      "source": [
        "glove.distance('tea','pea')"
      ]
    },
    {
      "cell_type": "code",
      "execution_count": 41,
      "metadata": {
        "id": "yfI_FUghdLf7",
        "colab": {
          "base_uri": "https://localhost:8080/"
        },
        "outputId": "12e73cf7-8947-431b-f2e3-a19532592764"
      },
      "outputs": [
        {
          "output_type": "execute_result",
          "data": {
            "text/plain": [
              "[('queen', 0.7118193507194519),\n",
              " ('monarch', 0.6189674139022827),\n",
              " ('princess', 0.5902431011199951),\n",
              " ('crown_prince', 0.5499460697174072),\n",
              " ('prince', 0.5377321839332581),\n",
              " ('kings', 0.5236844420433044),\n",
              " ('Queen_Consort', 0.5235945582389832),\n",
              " ('queens', 0.5181134343147278),\n",
              " ('sultan', 0.5098593831062317),\n",
              " ('monarchy', 0.5087411999702454)]"
            ]
          },
          "metadata": {},
          "execution_count": 41
        }
      ],
      "source": [
        "w2v.most_similar(positive=['king','woman'],negative=['man'])"
      ]
    },
    {
      "cell_type": "code",
      "execution_count": null,
      "metadata": {
        "id": "W2kPqfMCdU7W"
      },
      "outputs": [],
      "source": [
        "w2v.most_similar(positive=['restaurant','cocktail'],negative=['dinner'])"
      ]
    },
    {
      "cell_type": "code",
      "execution_count": null,
      "metadata": {
        "colab": {
          "base_uri": "https://localhost:8080/"
        },
        "id": "ew-5Zv5HJz5W",
        "outputId": "18dd473c-cb2d-45c5-feec-0e7618788d98"
      },
      "outputs": [
        {
          "name": "stdout",
          "output_type": "stream",
          "text": [
            "Requirement already satisfied: python-levenshtein in /usr/local/lib/python3.11/dist-packages (0.26.1)\n",
            "Requirement already satisfied: Levenshtein==0.26.1 in /usr/local/lib/python3.11/dist-packages (from python-levenshtein) (0.26.1)\n",
            "Requirement already satisfied: rapidfuzz<4.0.0,>=3.9.0 in /usr/local/lib/python3.11/dist-packages (from Levenshtein==0.26.1->python-levenshtein) (3.11.0)\n"
          ]
        }
      ],
      "source": [
        "#!pip install gensim\n",
        "!pip install python-levenshtein"
      ]
    },
    {
      "cell_type": "markdown",
      "metadata": {
        "id": "bIsrNDT8ah9N"
      },
      "source": []
    },
    {
      "cell_type": "markdown",
      "metadata": {
        "id": "32HZCL7lMSkV"
      },
      "source": [
        "Dataset:\n",
        "**Reddit World News**\n",
        "\n",
        "https://www.kaggle.com/datasets/rootuser/worldnews-on-reddit"
      ]
    },
    {
      "cell_type": "markdown",
      "source": [
        "# New section"
      ],
      "metadata": {
        "id": "lsJLnRfEIpkA"
      }
    },
    {
      "cell_type": "code",
      "execution_count": 11,
      "metadata": {
        "colab": {
          "base_uri": "https://localhost:8080/",
          "height": 424
        },
        "id": "SdIHz9eCMS2l",
        "outputId": "cb65348d-be60-4225-e286-865fe2f8bd76"
      },
      "outputs": [
        {
          "output_type": "execute_result",
          "data": {
            "text/plain": [
              "        time_created date_created  up_votes  down_votes  \\\n",
              "0         1201232046   2008-01-25         3           0   \n",
              "1         1201232075   2008-01-25         2           0   \n",
              "2         1201232523   2008-01-25         3           0   \n",
              "3         1201233290   2008-01-25         1           0   \n",
              "4         1201274720   2008-01-25         4           0   \n",
              "...              ...          ...       ...         ...   \n",
              "509231    1479816764   2016-11-22         5           0   \n",
              "509232    1479816772   2016-11-22         1           0   \n",
              "509233    1479817056   2016-11-22         1           0   \n",
              "509234    1479817157   2016-11-22         1           0   \n",
              "509235    1479817346   2016-11-22         1           0   \n",
              "\n",
              "                                                    title  over_18  \\\n",
              "0                       Scores killed in Pakistan clashes    False   \n",
              "1                        Japan resumes refuelling mission    False   \n",
              "2                         US presses Egypt on Gaza border    False   \n",
              "3            Jump-start economy: Give health care to all     False   \n",
              "4         Council of Europe bashes EU&UN terror blacklist    False   \n",
              "...                                                   ...      ...   \n",
              "509231   Heil Trump : Donald Trump s  alt-right  white...    False   \n",
              "509232  There are people speculating that this could b...    False   \n",
              "509233          Professor receives Arab Researchers Award    False   \n",
              "509234  Nigel Farage attacks response to Trump ambassa...    False   \n",
              "509235  Palestinian wielding knife shot dead in West B...    False   \n",
              "\n",
              "               author  subreddit  \n",
              "0               polar  worldnews  \n",
              "1               polar  worldnews  \n",
              "2               polar  worldnews  \n",
              "3             fadi420  worldnews  \n",
              "4            mhermans  worldnews  \n",
              "...               ...        ...  \n",
              "509231  nonamenoglory  worldnews  \n",
              "509232      SummerRay  worldnews  \n",
              "509233      AUSharjah  worldnews  \n",
              "509234    smilyflower  worldnews  \n",
              "509235     superislam  worldnews  \n",
              "\n",
              "[509236 rows x 8 columns]"
            ],
            "text/html": [
              "\n",
              "  <div id=\"df-622576c1-43d6-432c-8f5b-2c6b45189c58\" class=\"colab-df-container\">\n",
              "    <div>\n",
              "<style scoped>\n",
              "    .dataframe tbody tr th:only-of-type {\n",
              "        vertical-align: middle;\n",
              "    }\n",
              "\n",
              "    .dataframe tbody tr th {\n",
              "        vertical-align: top;\n",
              "    }\n",
              "\n",
              "    .dataframe thead th {\n",
              "        text-align: right;\n",
              "    }\n",
              "</style>\n",
              "<table border=\"1\" class=\"dataframe\">\n",
              "  <thead>\n",
              "    <tr style=\"text-align: right;\">\n",
              "      <th></th>\n",
              "      <th>time_created</th>\n",
              "      <th>date_created</th>\n",
              "      <th>up_votes</th>\n",
              "      <th>down_votes</th>\n",
              "      <th>title</th>\n",
              "      <th>over_18</th>\n",
              "      <th>author</th>\n",
              "      <th>subreddit</th>\n",
              "    </tr>\n",
              "  </thead>\n",
              "  <tbody>\n",
              "    <tr>\n",
              "      <th>0</th>\n",
              "      <td>1201232046</td>\n",
              "      <td>2008-01-25</td>\n",
              "      <td>3</td>\n",
              "      <td>0</td>\n",
              "      <td>Scores killed in Pakistan clashes</td>\n",
              "      <td>False</td>\n",
              "      <td>polar</td>\n",
              "      <td>worldnews</td>\n",
              "    </tr>\n",
              "    <tr>\n",
              "      <th>1</th>\n",
              "      <td>1201232075</td>\n",
              "      <td>2008-01-25</td>\n",
              "      <td>2</td>\n",
              "      <td>0</td>\n",
              "      <td>Japan resumes refuelling mission</td>\n",
              "      <td>False</td>\n",
              "      <td>polar</td>\n",
              "      <td>worldnews</td>\n",
              "    </tr>\n",
              "    <tr>\n",
              "      <th>2</th>\n",
              "      <td>1201232523</td>\n",
              "      <td>2008-01-25</td>\n",
              "      <td>3</td>\n",
              "      <td>0</td>\n",
              "      <td>US presses Egypt on Gaza border</td>\n",
              "      <td>False</td>\n",
              "      <td>polar</td>\n",
              "      <td>worldnews</td>\n",
              "    </tr>\n",
              "    <tr>\n",
              "      <th>3</th>\n",
              "      <td>1201233290</td>\n",
              "      <td>2008-01-25</td>\n",
              "      <td>1</td>\n",
              "      <td>0</td>\n",
              "      <td>Jump-start economy: Give health care to all</td>\n",
              "      <td>False</td>\n",
              "      <td>fadi420</td>\n",
              "      <td>worldnews</td>\n",
              "    </tr>\n",
              "    <tr>\n",
              "      <th>4</th>\n",
              "      <td>1201274720</td>\n",
              "      <td>2008-01-25</td>\n",
              "      <td>4</td>\n",
              "      <td>0</td>\n",
              "      <td>Council of Europe bashes EU&amp;UN terror blacklist</td>\n",
              "      <td>False</td>\n",
              "      <td>mhermans</td>\n",
              "      <td>worldnews</td>\n",
              "    </tr>\n",
              "    <tr>\n",
              "      <th>...</th>\n",
              "      <td>...</td>\n",
              "      <td>...</td>\n",
              "      <td>...</td>\n",
              "      <td>...</td>\n",
              "      <td>...</td>\n",
              "      <td>...</td>\n",
              "      <td>...</td>\n",
              "      <td>...</td>\n",
              "    </tr>\n",
              "    <tr>\n",
              "      <th>509231</th>\n",
              "      <td>1479816764</td>\n",
              "      <td>2016-11-22</td>\n",
              "      <td>5</td>\n",
              "      <td>0</td>\n",
              "      <td>Heil Trump : Donald Trump s  alt-right  white...</td>\n",
              "      <td>False</td>\n",
              "      <td>nonamenoglory</td>\n",
              "      <td>worldnews</td>\n",
              "    </tr>\n",
              "    <tr>\n",
              "      <th>509232</th>\n",
              "      <td>1479816772</td>\n",
              "      <td>2016-11-22</td>\n",
              "      <td>1</td>\n",
              "      <td>0</td>\n",
              "      <td>There are people speculating that this could b...</td>\n",
              "      <td>False</td>\n",
              "      <td>SummerRay</td>\n",
              "      <td>worldnews</td>\n",
              "    </tr>\n",
              "    <tr>\n",
              "      <th>509233</th>\n",
              "      <td>1479817056</td>\n",
              "      <td>2016-11-22</td>\n",
              "      <td>1</td>\n",
              "      <td>0</td>\n",
              "      <td>Professor receives Arab Researchers Award</td>\n",
              "      <td>False</td>\n",
              "      <td>AUSharjah</td>\n",
              "      <td>worldnews</td>\n",
              "    </tr>\n",
              "    <tr>\n",
              "      <th>509234</th>\n",
              "      <td>1479817157</td>\n",
              "      <td>2016-11-22</td>\n",
              "      <td>1</td>\n",
              "      <td>0</td>\n",
              "      <td>Nigel Farage attacks response to Trump ambassa...</td>\n",
              "      <td>False</td>\n",
              "      <td>smilyflower</td>\n",
              "      <td>worldnews</td>\n",
              "    </tr>\n",
              "    <tr>\n",
              "      <th>509235</th>\n",
              "      <td>1479817346</td>\n",
              "      <td>2016-11-22</td>\n",
              "      <td>1</td>\n",
              "      <td>0</td>\n",
              "      <td>Palestinian wielding knife shot dead in West B...</td>\n",
              "      <td>False</td>\n",
              "      <td>superislam</td>\n",
              "      <td>worldnews</td>\n",
              "    </tr>\n",
              "  </tbody>\n",
              "</table>\n",
              "<p>509236 rows × 8 columns</p>\n",
              "</div>\n",
              "    <div class=\"colab-df-buttons\">\n",
              "\n",
              "  <div class=\"colab-df-container\">\n",
              "    <button class=\"colab-df-convert\" onclick=\"convertToInteractive('df-622576c1-43d6-432c-8f5b-2c6b45189c58')\"\n",
              "            title=\"Convert this dataframe to an interactive table.\"\n",
              "            style=\"display:none;\">\n",
              "\n",
              "  <svg xmlns=\"http://www.w3.org/2000/svg\" height=\"24px\" viewBox=\"0 -960 960 960\">\n",
              "    <path d=\"M120-120v-720h720v720H120Zm60-500h600v-160H180v160Zm220 220h160v-160H400v160Zm0 220h160v-160H400v160ZM180-400h160v-160H180v160Zm440 0h160v-160H620v160ZM180-180h160v-160H180v160Zm440 0h160v-160H620v160Z\"/>\n",
              "  </svg>\n",
              "    </button>\n",
              "\n",
              "  <style>\n",
              "    .colab-df-container {\n",
              "      display:flex;\n",
              "      gap: 12px;\n",
              "    }\n",
              "\n",
              "    .colab-df-convert {\n",
              "      background-color: #E8F0FE;\n",
              "      border: none;\n",
              "      border-radius: 50%;\n",
              "      cursor: pointer;\n",
              "      display: none;\n",
              "      fill: #1967D2;\n",
              "      height: 32px;\n",
              "      padding: 0 0 0 0;\n",
              "      width: 32px;\n",
              "    }\n",
              "\n",
              "    .colab-df-convert:hover {\n",
              "      background-color: #E2EBFA;\n",
              "      box-shadow: 0px 1px 2px rgba(60, 64, 67, 0.3), 0px 1px 3px 1px rgba(60, 64, 67, 0.15);\n",
              "      fill: #174EA6;\n",
              "    }\n",
              "\n",
              "    .colab-df-buttons div {\n",
              "      margin-bottom: 4px;\n",
              "    }\n",
              "\n",
              "    [theme=dark] .colab-df-convert {\n",
              "      background-color: #3B4455;\n",
              "      fill: #D2E3FC;\n",
              "    }\n",
              "\n",
              "    [theme=dark] .colab-df-convert:hover {\n",
              "      background-color: #434B5C;\n",
              "      box-shadow: 0px 1px 3px 1px rgba(0, 0, 0, 0.15);\n",
              "      filter: drop-shadow(0px 1px 2px rgba(0, 0, 0, 0.3));\n",
              "      fill: #FFFFFF;\n",
              "    }\n",
              "  </style>\n",
              "\n",
              "    <script>\n",
              "      const buttonEl =\n",
              "        document.querySelector('#df-622576c1-43d6-432c-8f5b-2c6b45189c58 button.colab-df-convert');\n",
              "      buttonEl.style.display =\n",
              "        google.colab.kernel.accessAllowed ? 'block' : 'none';\n",
              "\n",
              "      async function convertToInteractive(key) {\n",
              "        const element = document.querySelector('#df-622576c1-43d6-432c-8f5b-2c6b45189c58');\n",
              "        const dataTable =\n",
              "          await google.colab.kernel.invokeFunction('convertToInteractive',\n",
              "                                                    [key], {});\n",
              "        if (!dataTable) return;\n",
              "\n",
              "        const docLinkHtml = 'Like what you see? Visit the ' +\n",
              "          '<a target=\"_blank\" href=https://colab.research.google.com/notebooks/data_table.ipynb>data table notebook</a>'\n",
              "          + ' to learn more about interactive tables.';\n",
              "        element.innerHTML = '';\n",
              "        dataTable['output_type'] = 'display_data';\n",
              "        await google.colab.output.renderOutput(dataTable, element);\n",
              "        const docLink = document.createElement('div');\n",
              "        docLink.innerHTML = docLinkHtml;\n",
              "        element.appendChild(docLink);\n",
              "      }\n",
              "    </script>\n",
              "  </div>\n",
              "\n",
              "\n",
              "<div id=\"df-2f765bdc-b87d-4d90-b3a9-9798dd194f12\">\n",
              "  <button class=\"colab-df-quickchart\" onclick=\"quickchart('df-2f765bdc-b87d-4d90-b3a9-9798dd194f12')\"\n",
              "            title=\"Suggest charts\"\n",
              "            style=\"display:none;\">\n",
              "\n",
              "<svg xmlns=\"http://www.w3.org/2000/svg\" height=\"24px\"viewBox=\"0 0 24 24\"\n",
              "     width=\"24px\">\n",
              "    <g>\n",
              "        <path d=\"M19 3H5c-1.1 0-2 .9-2 2v14c0 1.1.9 2 2 2h14c1.1 0 2-.9 2-2V5c0-1.1-.9-2-2-2zM9 17H7v-7h2v7zm4 0h-2V7h2v10zm4 0h-2v-4h2v4z\"/>\n",
              "    </g>\n",
              "</svg>\n",
              "  </button>\n",
              "\n",
              "<style>\n",
              "  .colab-df-quickchart {\n",
              "      --bg-color: #E8F0FE;\n",
              "      --fill-color: #1967D2;\n",
              "      --hover-bg-color: #E2EBFA;\n",
              "      --hover-fill-color: #174EA6;\n",
              "      --disabled-fill-color: #AAA;\n",
              "      --disabled-bg-color: #DDD;\n",
              "  }\n",
              "\n",
              "  [theme=dark] .colab-df-quickchart {\n",
              "      --bg-color: #3B4455;\n",
              "      --fill-color: #D2E3FC;\n",
              "      --hover-bg-color: #434B5C;\n",
              "      --hover-fill-color: #FFFFFF;\n",
              "      --disabled-bg-color: #3B4455;\n",
              "      --disabled-fill-color: #666;\n",
              "  }\n",
              "\n",
              "  .colab-df-quickchart {\n",
              "    background-color: var(--bg-color);\n",
              "    border: none;\n",
              "    border-radius: 50%;\n",
              "    cursor: pointer;\n",
              "    display: none;\n",
              "    fill: var(--fill-color);\n",
              "    height: 32px;\n",
              "    padding: 0;\n",
              "    width: 32px;\n",
              "  }\n",
              "\n",
              "  .colab-df-quickchart:hover {\n",
              "    background-color: var(--hover-bg-color);\n",
              "    box-shadow: 0 1px 2px rgba(60, 64, 67, 0.3), 0 1px 3px 1px rgba(60, 64, 67, 0.15);\n",
              "    fill: var(--button-hover-fill-color);\n",
              "  }\n",
              "\n",
              "  .colab-df-quickchart-complete:disabled,\n",
              "  .colab-df-quickchart-complete:disabled:hover {\n",
              "    background-color: var(--disabled-bg-color);\n",
              "    fill: var(--disabled-fill-color);\n",
              "    box-shadow: none;\n",
              "  }\n",
              "\n",
              "  .colab-df-spinner {\n",
              "    border: 2px solid var(--fill-color);\n",
              "    border-color: transparent;\n",
              "    border-bottom-color: var(--fill-color);\n",
              "    animation:\n",
              "      spin 1s steps(1) infinite;\n",
              "  }\n",
              "\n",
              "  @keyframes spin {\n",
              "    0% {\n",
              "      border-color: transparent;\n",
              "      border-bottom-color: var(--fill-color);\n",
              "      border-left-color: var(--fill-color);\n",
              "    }\n",
              "    20% {\n",
              "      border-color: transparent;\n",
              "      border-left-color: var(--fill-color);\n",
              "      border-top-color: var(--fill-color);\n",
              "    }\n",
              "    30% {\n",
              "      border-color: transparent;\n",
              "      border-left-color: var(--fill-color);\n",
              "      border-top-color: var(--fill-color);\n",
              "      border-right-color: var(--fill-color);\n",
              "    }\n",
              "    40% {\n",
              "      border-color: transparent;\n",
              "      border-right-color: var(--fill-color);\n",
              "      border-top-color: var(--fill-color);\n",
              "    }\n",
              "    60% {\n",
              "      border-color: transparent;\n",
              "      border-right-color: var(--fill-color);\n",
              "    }\n",
              "    80% {\n",
              "      border-color: transparent;\n",
              "      border-right-color: var(--fill-color);\n",
              "      border-bottom-color: var(--fill-color);\n",
              "    }\n",
              "    90% {\n",
              "      border-color: transparent;\n",
              "      border-bottom-color: var(--fill-color);\n",
              "    }\n",
              "  }\n",
              "</style>\n",
              "\n",
              "  <script>\n",
              "    async function quickchart(key) {\n",
              "      const quickchartButtonEl =\n",
              "        document.querySelector('#' + key + ' button');\n",
              "      quickchartButtonEl.disabled = true;  // To prevent multiple clicks.\n",
              "      quickchartButtonEl.classList.add('colab-df-spinner');\n",
              "      try {\n",
              "        const charts = await google.colab.kernel.invokeFunction(\n",
              "            'suggestCharts', [key], {});\n",
              "      } catch (error) {\n",
              "        console.error('Error during call to suggestCharts:', error);\n",
              "      }\n",
              "      quickchartButtonEl.classList.remove('colab-df-spinner');\n",
              "      quickchartButtonEl.classList.add('colab-df-quickchart-complete');\n",
              "    }\n",
              "    (() => {\n",
              "      let quickchartButtonEl =\n",
              "        document.querySelector('#df-2f765bdc-b87d-4d90-b3a9-9798dd194f12 button');\n",
              "      quickchartButtonEl.style.display =\n",
              "        google.colab.kernel.accessAllowed ? 'block' : 'none';\n",
              "    })();\n",
              "  </script>\n",
              "</div>\n",
              "\n",
              "  <div id=\"id_57768ca2-072d-4ac8-8679-c350bfb7f898\">\n",
              "    <style>\n",
              "      .colab-df-generate {\n",
              "        background-color: #E8F0FE;\n",
              "        border: none;\n",
              "        border-radius: 50%;\n",
              "        cursor: pointer;\n",
              "        display: none;\n",
              "        fill: #1967D2;\n",
              "        height: 32px;\n",
              "        padding: 0 0 0 0;\n",
              "        width: 32px;\n",
              "      }\n",
              "\n",
              "      .colab-df-generate:hover {\n",
              "        background-color: #E2EBFA;\n",
              "        box-shadow: 0px 1px 2px rgba(60, 64, 67, 0.3), 0px 1px 3px 1px rgba(60, 64, 67, 0.15);\n",
              "        fill: #174EA6;\n",
              "      }\n",
              "\n",
              "      [theme=dark] .colab-df-generate {\n",
              "        background-color: #3B4455;\n",
              "        fill: #D2E3FC;\n",
              "      }\n",
              "\n",
              "      [theme=dark] .colab-df-generate:hover {\n",
              "        background-color: #434B5C;\n",
              "        box-shadow: 0px 1px 3px 1px rgba(0, 0, 0, 0.15);\n",
              "        filter: drop-shadow(0px 1px 2px rgba(0, 0, 0, 0.3));\n",
              "        fill: #FFFFFF;\n",
              "      }\n",
              "    </style>\n",
              "    <button class=\"colab-df-generate\" onclick=\"generateWithVariable('df')\"\n",
              "            title=\"Generate code using this dataframe.\"\n",
              "            style=\"display:none;\">\n",
              "\n",
              "  <svg xmlns=\"http://www.w3.org/2000/svg\" height=\"24px\"viewBox=\"0 0 24 24\"\n",
              "       width=\"24px\">\n",
              "    <path d=\"M7,19H8.4L18.45,9,17,7.55,7,17.6ZM5,21V16.75L18.45,3.32a2,2,0,0,1,2.83,0l1.4,1.43a1.91,1.91,0,0,1,.58,1.4,1.91,1.91,0,0,1-.58,1.4L9.25,21ZM18.45,9,17,7.55Zm-12,3A5.31,5.31,0,0,0,4.9,8.1,5.31,5.31,0,0,0,1,6.5,5.31,5.31,0,0,0,4.9,4.9,5.31,5.31,0,0,0,6.5,1,5.31,5.31,0,0,0,8.1,4.9,5.31,5.31,0,0,0,12,6.5,5.46,5.46,0,0,0,6.5,12Z\"/>\n",
              "  </svg>\n",
              "    </button>\n",
              "    <script>\n",
              "      (() => {\n",
              "      const buttonEl =\n",
              "        document.querySelector('#id_57768ca2-072d-4ac8-8679-c350bfb7f898 button.colab-df-generate');\n",
              "      buttonEl.style.display =\n",
              "        google.colab.kernel.accessAllowed ? 'block' : 'none';\n",
              "\n",
              "      buttonEl.onclick = () => {\n",
              "        google.colab.notebook.generateWithVariable('df');\n",
              "      }\n",
              "      })();\n",
              "    </script>\n",
              "  </div>\n",
              "\n",
              "    </div>\n",
              "  </div>\n"
            ],
            "application/vnd.google.colaboratory.intrinsic+json": {
              "type": "dataframe",
              "variable_name": "df"
            }
          },
          "metadata": {},
          "execution_count": 11
        }
      ],
      "source": [
        "df = pd.read_csv(\"/content/reddit_worldnews.csv\")\n",
        "df"
      ]
    },
    {
      "cell_type": "code",
      "execution_count": 12,
      "metadata": {
        "colab": {
          "base_uri": "https://localhost:8080/"
        },
        "id": "Jx9C-o-gPGoc",
        "outputId": "23173c4e-7472-4427-f046-773b3096a38e"
      },
      "outputs": [
        {
          "output_type": "execute_result",
          "data": {
            "text/plain": [
              "(509236, 8)"
            ]
          },
          "metadata": {},
          "execution_count": 12
        }
      ],
      "source": [
        "df.shape"
      ]
    },
    {
      "cell_type": "markdown",
      "metadata": {
        "id": "jd6iv0d6PSms"
      },
      "source": [
        "**Simple Preprocessing & Tokenization**\n",
        "\n",
        "The first thing to do for any data science task is to clean the data. For NLP, we apply various processing like converting all the words to lower case, trimming spaces, removing punctuations. This is something we will do over here too.\n",
        "\n",
        "Additionally, we can also remove stop words like 'and', 'or', 'is', 'the', 'a', 'an' and convert words to their root forms like 'running' to 'run'."
      ]
    },
    {
      "cell_type": "code",
      "execution_count": 46,
      "metadata": {
        "colab": {
          "base_uri": "https://localhost:8080/",
          "height": 458
        },
        "id": "IASb8EItPiaF",
        "outputId": "24fe01a9-1f3a-41dc-954a-a9e1edde5d0b"
      },
      "outputs": [
        {
          "output_type": "execute_result",
          "data": {
            "text/plain": [
              "0                         Scores killed in Pakistan clashes\n",
              "1                          Japan resumes refuelling mission\n",
              "2                           US presses Egypt on Gaza border\n",
              "3              Jump-start economy: Give health care to all \n",
              "4           Council of Europe bashes EU&UN terror blacklist\n",
              "                                ...                        \n",
              "509231     Heil Trump : Donald Trump s  alt-right  white...\n",
              "509232    There are people speculating that this could b...\n",
              "509233            Professor receives Arab Researchers Award\n",
              "509234    Nigel Farage attacks response to Trump ambassa...\n",
              "509235    Palestinian wielding knife shot dead in West B...\n",
              "Name: title, Length: 509236, dtype: object"
            ],
            "text/html": [
              "<div>\n",
              "<style scoped>\n",
              "    .dataframe tbody tr th:only-of-type {\n",
              "        vertical-align: middle;\n",
              "    }\n",
              "\n",
              "    .dataframe tbody tr th {\n",
              "        vertical-align: top;\n",
              "    }\n",
              "\n",
              "    .dataframe thead th {\n",
              "        text-align: right;\n",
              "    }\n",
              "</style>\n",
              "<table border=\"1\" class=\"dataframe\">\n",
              "  <thead>\n",
              "    <tr style=\"text-align: right;\">\n",
              "      <th></th>\n",
              "      <th>title</th>\n",
              "    </tr>\n",
              "  </thead>\n",
              "  <tbody>\n",
              "    <tr>\n",
              "      <th>0</th>\n",
              "      <td>Scores killed in Pakistan clashes</td>\n",
              "    </tr>\n",
              "    <tr>\n",
              "      <th>1</th>\n",
              "      <td>Japan resumes refuelling mission</td>\n",
              "    </tr>\n",
              "    <tr>\n",
              "      <th>2</th>\n",
              "      <td>US presses Egypt on Gaza border</td>\n",
              "    </tr>\n",
              "    <tr>\n",
              "      <th>3</th>\n",
              "      <td>Jump-start economy: Give health care to all</td>\n",
              "    </tr>\n",
              "    <tr>\n",
              "      <th>4</th>\n",
              "      <td>Council of Europe bashes EU&amp;UN terror blacklist</td>\n",
              "    </tr>\n",
              "    <tr>\n",
              "      <th>...</th>\n",
              "      <td>...</td>\n",
              "    </tr>\n",
              "    <tr>\n",
              "      <th>509231</th>\n",
              "      <td>Heil Trump : Donald Trump s  alt-right  white...</td>\n",
              "    </tr>\n",
              "    <tr>\n",
              "      <th>509232</th>\n",
              "      <td>There are people speculating that this could b...</td>\n",
              "    </tr>\n",
              "    <tr>\n",
              "      <th>509233</th>\n",
              "      <td>Professor receives Arab Researchers Award</td>\n",
              "    </tr>\n",
              "    <tr>\n",
              "      <th>509234</th>\n",
              "      <td>Nigel Farage attacks response to Trump ambassa...</td>\n",
              "    </tr>\n",
              "    <tr>\n",
              "      <th>509235</th>\n",
              "      <td>Palestinian wielding knife shot dead in West B...</td>\n",
              "    </tr>\n",
              "  </tbody>\n",
              "</table>\n",
              "<p>509236 rows × 1 columns</p>\n",
              "</div><br><label><b>dtype:</b> object</label>"
            ]
          },
          "metadata": {},
          "execution_count": 46
        }
      ],
      "source": [
        "df.title\n",
        "#gensim.utils.simple_preprocess(\"Scores killed in Pakistan clashes\")"
      ]
    },
    {
      "cell_type": "code",
      "execution_count": null,
      "metadata": {
        "id": "65e2gKQnQcwU"
      },
      "outputs": [],
      "source": [
        "gensim.utils.simple_preprocess(\"Scores killed in Pakistan clashes\")"
      ]
    },
    {
      "cell_type": "code",
      "execution_count": 45,
      "metadata": {
        "colab": {
          "base_uri": "https://localhost:8080/",
          "height": 458
        },
        "id": "l3ZysO4GQARf",
        "outputId": "0f09482c-dad8-44fc-99a9-c935883490b1"
      },
      "outputs": [
        {
          "output_type": "execute_result",
          "data": {
            "text/plain": [
              "0                   [scores, killed, in, pakistan, clashes]\n",
              "1                     [japan, resumes, refuelling, mission]\n",
              "2                    [us, presses, egypt, on, gaza, border]\n",
              "3         [jump, start, economy, give, health, care, to,...\n",
              "4         [council, of, europe, bashes, eu, un, terror, ...\n",
              "                                ...                        \n",
              "509231    [heil, trump, donald, trump, alt, right, white...\n",
              "509232    [there, are, people, speculating, that, this, ...\n",
              "509233      [professor, receives, arab, researchers, award]\n",
              "509234    [nigel, farage, attacks, response, to, trump, ...\n",
              "509235    [palestinian, wielding, knife, shot, dead, in,...\n",
              "Name: title, Length: 509236, dtype: object"
            ],
            "text/html": [
              "<div>\n",
              "<style scoped>\n",
              "    .dataframe tbody tr th:only-of-type {\n",
              "        vertical-align: middle;\n",
              "    }\n",
              "\n",
              "    .dataframe tbody tr th {\n",
              "        vertical-align: top;\n",
              "    }\n",
              "\n",
              "    .dataframe thead th {\n",
              "        text-align: right;\n",
              "    }\n",
              "</style>\n",
              "<table border=\"1\" class=\"dataframe\">\n",
              "  <thead>\n",
              "    <tr style=\"text-align: right;\">\n",
              "      <th></th>\n",
              "      <th>title</th>\n",
              "    </tr>\n",
              "  </thead>\n",
              "  <tbody>\n",
              "    <tr>\n",
              "      <th>0</th>\n",
              "      <td>[scores, killed, in, pakistan, clashes]</td>\n",
              "    </tr>\n",
              "    <tr>\n",
              "      <th>1</th>\n",
              "      <td>[japan, resumes, refuelling, mission]</td>\n",
              "    </tr>\n",
              "    <tr>\n",
              "      <th>2</th>\n",
              "      <td>[us, presses, egypt, on, gaza, border]</td>\n",
              "    </tr>\n",
              "    <tr>\n",
              "      <th>3</th>\n",
              "      <td>[jump, start, economy, give, health, care, to,...</td>\n",
              "    </tr>\n",
              "    <tr>\n",
              "      <th>4</th>\n",
              "      <td>[council, of, europe, bashes, eu, un, terror, ...</td>\n",
              "    </tr>\n",
              "    <tr>\n",
              "      <th>...</th>\n",
              "      <td>...</td>\n",
              "    </tr>\n",
              "    <tr>\n",
              "      <th>509231</th>\n",
              "      <td>[heil, trump, donald, trump, alt, right, white...</td>\n",
              "    </tr>\n",
              "    <tr>\n",
              "      <th>509232</th>\n",
              "      <td>[there, are, people, speculating, that, this, ...</td>\n",
              "    </tr>\n",
              "    <tr>\n",
              "      <th>509233</th>\n",
              "      <td>[professor, receives, arab, researchers, award]</td>\n",
              "    </tr>\n",
              "    <tr>\n",
              "      <th>509234</th>\n",
              "      <td>[nigel, farage, attacks, response, to, trump, ...</td>\n",
              "    </tr>\n",
              "    <tr>\n",
              "      <th>509235</th>\n",
              "      <td>[palestinian, wielding, knife, shot, dead, in,...</td>\n",
              "    </tr>\n",
              "  </tbody>\n",
              "</table>\n",
              "<p>509236 rows × 1 columns</p>\n",
              "</div><br><label><b>dtype:</b> object</label>"
            ]
          },
          "metadata": {},
          "execution_count": 45
        }
      ],
      "source": [
        "news_title = df.title.apply(gensim.utils.simple_preprocess)\n",
        "news_title"
      ]
    },
    {
      "cell_type": "code",
      "execution_count": 19,
      "metadata": {
        "colab": {
          "base_uri": "https://localhost:8080/"
        },
        "id": "K3PZ_oI5Q7ul",
        "outputId": "5fb48cc1-1f50-4123-965f-8b92df1f3d9d"
      },
      "outputs": [
        {
          "output_type": "execute_result",
          "data": {
            "text/plain": [
              "['scores', 'killed', 'in', 'pakistan', 'clashes']"
            ]
          },
          "metadata": {},
          "execution_count": 19
        }
      ],
      "source": [
        "news_title.loc[0]"
      ]
    },
    {
      "cell_type": "markdown",
      "metadata": {
        "id": "yoAolwzTRhOe"
      },
      "source": [
        "**Training the Word2Vec Model**\n",
        "\n",
        "\n",
        "Train the model for reviews. Use a window of size 10 i.e. 2 words before the present word and 2 words ahead. A sentence with at least 2 words should only be considered, configure this using min_count parameter.\n",
        "\n",
        "Workers define how many CPU threads to be used."
      ]
    },
    {
      "cell_type": "code",
      "execution_count": 20,
      "metadata": {
        "id": "ORaUNFLVRyO8"
      },
      "outputs": [],
      "source": [
        "model = gensim.models.Word2Vec(\n",
        "    window=10,\n",
        "    min_count=2,\n",
        "    workers=4,\n",
        ")"
      ]
    },
    {
      "cell_type": "markdown",
      "metadata": {
        "id": "iUtyKRtTVIYu"
      },
      "source": [
        "**Build Vocabulary**\n",
        "\n",
        "In Gensim, the **build_vocab function** is part of the Word2Vec, or other similar models. This function is used to build the vocabulary for the model from a given corpus. The vocabulary contains all the unique tokens (words) in the corpus, along with their frequency, and prepares the model for training."
      ]
    },
    {
      "cell_type": "code",
      "execution_count": 23,
      "metadata": {
        "colab": {
          "base_uri": "https://localhost:8080/"
        },
        "id": "X1kE75aOVPas",
        "outputId": "8f836a63-e6fb-4218-a178-69e7bd5d1ba8"
      },
      "outputs": [
        {
          "output_type": "stream",
          "name": "stderr",
          "text": [
            "WARNING:gensim.models.keyedvectors:sorting after vectors have been allocated is expensive & error-prone\n"
          ]
        }
      ],
      "source": [
        "model.build_vocab(news_title, progress_per=100)"
      ]
    },
    {
      "cell_type": "code",
      "execution_count": 47,
      "metadata": {
        "colab": {
          "base_uri": "https://localhost:8080/"
        },
        "id": "Ug2eg0HDV0a8",
        "outputId": "96847271-1aa4-4f69-c842-ea7f8df343a9"
      },
      "outputs": [
        {
          "output_type": "execute_result",
          "data": {
            "text/plain": [
              "5"
            ]
          },
          "metadata": {},
          "execution_count": 47
        }
      ],
      "source": [
        "model.epochs"
      ]
    },
    {
      "cell_type": "code",
      "execution_count": 25,
      "metadata": {
        "colab": {
          "base_uri": "https://localhost:8080/"
        },
        "id": "W5YrKTdCWumj",
        "outputId": "cfaa2fde-f671-4947-e236-3f7a0c5ba292"
      },
      "outputs": [
        {
          "output_type": "execute_result",
          "data": {
            "text/plain": [
              "509236"
            ]
          },
          "metadata": {},
          "execution_count": 25
        }
      ],
      "source": [
        "model.corpus_count"
      ]
    },
    {
      "cell_type": "markdown",
      "metadata": {
        "id": "skNxnz0bWVFk"
      },
      "source": [
        "**Train the Word2Vec Model:**\n",
        "\n",
        "*total_examples=model.corpus_count:*\n",
        "\n",
        "total_examples specifies the number of sentences (or documents) in your training corpus.\n",
        "By setting total_examples=model.corpus_count, you are telling the model to use the total number of sentences already counted during the build_vocab step.\n",
        "\n",
        "*epochs=model.epochs:*\n",
        "\n",
        "epochs is the number of times the training process will iterate over the entire corpus.\n",
        "By setting epochs=model.epochs, you are using the number of epochs defined when you initialized the model. You can customize this value if needed."
      ]
    },
    {
      "cell_type": "code",
      "execution_count": 26,
      "metadata": {
        "colab": {
          "base_uri": "https://localhost:8080/"
        },
        "id": "pVtA28SEWiM8",
        "outputId": "16cb115a-6322-4ae5-bad7-3bd53f5870b1"
      },
      "outputs": [
        {
          "output_type": "execute_result",
          "data": {
            "text/plain": [
              "(30323131, 35114280)"
            ]
          },
          "metadata": {},
          "execution_count": 26
        }
      ],
      "source": [
        "model.train(news_title, total_examples=model.corpus_count, epochs=model.epochs)"
      ]
    },
    {
      "cell_type": "markdown",
      "metadata": {
        "id": "emT4DZvrXB6k"
      },
      "source": [
        "**Save the Model**\n",
        "\n",
        "Save the model so that it can be reused in other applications"
      ]
    },
    {
      "cell_type": "code",
      "execution_count": 27,
      "metadata": {
        "id": "OJv7YrAkXIfk"
      },
      "outputs": [],
      "source": [
        "model.save(\"/content/word2vec_news_title.model\")"
      ]
    },
    {
      "cell_type": "code",
      "execution_count": null,
      "metadata": {
        "id": "_sFqJtf3YAQ0"
      },
      "outputs": [],
      "source": [
        "#model = gensim.models.Word2Vec.load(\"/content/word2vec_news_title.model\")"
      ]
    },
    {
      "cell_type": "code",
      "execution_count": 48,
      "metadata": {
        "colab": {
          "base_uri": "https://localhost:8080/"
        },
        "id": "KvkivM4pYdVU",
        "outputId": "8346905c-616a-4820-ed82-b9ca053f45fa"
      },
      "outputs": [
        {
          "output_type": "stream",
          "name": "stdout",
          "text": [
            "[-0.04085952 -0.12789111 -0.01589017 -0.7085772   0.52904165 -0.60019946\n",
            " -0.21551335 -0.14660555 -0.13643295  0.24102366  0.13087244 -0.36346206\n",
            " -0.36862686  0.43499365  0.24462432 -0.11038085  0.45268226 -0.20643912\n",
            "  0.20001335 -0.5806406   1.4206418  -0.4106742   0.49891174 -0.35645968\n",
            " -0.03660118  0.32833606  0.03226447  0.32842606  0.80809385  0.05291649\n",
            "  0.6388708  -0.16327925  0.02724441 -0.24156322 -0.44064802  0.64569277\n",
            "  0.41180602  0.57006633  0.14922509 -0.5346526   0.93250203  0.42382318\n",
            " -0.35463202 -0.09727167 -0.5731636  -1.0146161  -0.1631945  -0.06262703\n",
            " -0.4823177  -0.12831046 -0.1200787   0.21625836  0.8263668  -0.67963\n",
            "  0.6323906  -0.53348243  0.23192614  0.7525379   0.04278276 -0.15676336\n",
            "  1.0072967   0.1328037   0.5410972   0.4013499   1.2011942   0.10907505\n",
            "  0.18342027 -0.22155175 -0.42906994 -0.23732685 -0.7977779  -0.52784634\n",
            "  0.7664885  -0.9154724   0.08651323 -0.06426943  0.01401342 -0.40155286\n",
            "  0.56445134  0.72438097  0.7558859  -0.26108757  0.13729112 -0.67044467\n",
            " -1.16079     0.20504193 -0.76415974 -0.5019      1.1801809  -0.69336873\n",
            " -1.0303735  -0.05751833  0.55337465 -0.5434659   0.28165483 -0.15334272\n",
            " -0.38650033 -0.10924651  0.50242484  0.03806035]\n"
          ]
        }
      ],
      "source": [
        "# Example: Access the vector for a specific word\n",
        "print(model.wv['tea'])"
      ]
    },
    {
      "cell_type": "markdown",
      "metadata": {
        "id": "FukG6UzTXdKs"
      },
      "source": [
        "**Finding Similar Words and Similarity between words**\n",
        "\n",
        "https://radimrehurek.com/gensim/models/word2vec.html"
      ]
    },
    {
      "cell_type": "code",
      "execution_count": 49,
      "metadata": {
        "colab": {
          "base_uri": "https://localhost:8080/"
        },
        "id": "pYiELUknXmO0",
        "outputId": "7c2facea-2f04-4d67-d604-1e064a1f748b"
      },
      "outputs": [
        {
          "output_type": "execute_result",
          "data": {
            "text/plain": [
              "[('boy', 0.8870277404785156),\n",
              " ('woman', 0.8498310446739197),\n",
              " ('teen', 0.7942448854446411),\n",
              " ('teenager', 0.7823588252067566),\n",
              " ('schoolgirl', 0.762632429599762),\n",
              " ('bride', 0.7618972659111023),\n",
              " ('mother', 0.7531858682632446),\n",
              " ('herself', 0.7349751591682434),\n",
              " ('man', 0.7339974045753479),\n",
              " ('girls', 0.7181392312049866)]"
            ]
          },
          "metadata": {},
          "execution_count": 49
        }
      ],
      "source": [
        "model.wv.most_similar(\"girl\")"
      ]
    },
    {
      "cell_type": "code",
      "execution_count": 32,
      "metadata": {
        "colab": {
          "base_uri": "https://localhost:8080/"
        },
        "id": "2qs5Hy6OYmfD",
        "outputId": "07439167-e354-48c2-cd8c-4c00ff8fc012"
      },
      "outputs": [
        {
          "output_type": "execute_result",
          "data": {
            "text/plain": [
              "0.4288567"
            ]
          },
          "metadata": {},
          "execution_count": 32
        }
      ],
      "source": [
        "model.wv.similarity(w1=\"cheap\", w2=\"inexpensive\")"
      ]
    },
    {
      "cell_type": "code",
      "execution_count": null,
      "metadata": {
        "colab": {
          "base_uri": "https://localhost:8080/"
        },
        "id": "EuSqPI1TYsz1",
        "outputId": "cf1823f4-ac10-42ee-dcd2-5365e41d280b"
      },
      "outputs": [
        {
          "data": {
            "text/plain": [
              "0.46991843"
            ]
          },
          "execution_count": 38,
          "metadata": {},
          "output_type": "execute_result"
        }
      ],
      "source": [
        "model.wv.similarity(w1=\"great\", w2=\"good\")"
      ]
    },
    {
      "cell_type": "markdown",
      "metadata": {
        "id": "wSaZbxiVfT1b"
      },
      "source": [
        "**Visualizing the model**\n"
      ]
    },
    {
      "cell_type": "code",
      "execution_count": 35,
      "metadata": {
        "id": "lbd6nbuyfhS0"
      },
      "outputs": [],
      "source": [
        "import matplotlib.pyplot as plt\n",
        "from sklearn.manifold import TSNE\n",
        "from sklearn.decomposition import PCA\n"
      ]
    },
    {
      "cell_type": "markdown",
      "metadata": {
        "id": "Z63qFwfhfvq7"
      },
      "source": [
        "**Extract Word Vectors**\n",
        "\n",
        "Extract the word vectors and corresponding words:"
      ]
    },
    {
      "cell_type": "code",
      "execution_count": 33,
      "metadata": {
        "id": "YruTB_2bfyV0"
      },
      "outputs": [],
      "source": [
        "# Get all word vectors from the model\n",
        "word_vectors = model.wv\n",
        "\n",
        "# Extract the vocabulary\n",
        "words = list(word_vectors.index_to_key)"
      ]
    },
    {
      "cell_type": "markdown",
      "metadata": {
        "id": "tW4Okbtzf6Gc"
      },
      "source": [
        "**Reduce Dimensionality**\n",
        "\n",
        "Use **t-SNE** or **PCA** to reduce the dimensionality of the vectors:\n",
        "\n",
        "**t-SNE vs. PCA:**\n",
        "\n",
        "t-SNE provides better visualization for capturing local relationships (clusters), but it is slower.\n",
        "PCA is faster and better for an overall \"big picture\" but may lose finer clustering details.\n",
        "\n",
        "**Perplexity (t-SNE):**\n",
        "\n",
        "Tweak perplexity (usually between 5 and 50) for better clustering results depending on your data size."
      ]
    },
    {
      "cell_type": "code",
      "execution_count": 34,
      "metadata": {
        "colab": {
          "base_uri": "https://localhost:8080/",
          "height": 193
        },
        "id": "mCCHKmVIgBn0",
        "outputId": "af837d8f-b814-4eda-a59c-2340c2523a85"
      },
      "outputs": [
        {
          "output_type": "error",
          "ename": "NameError",
          "evalue": "name 'TSNE' is not defined",
          "traceback": [
            "\u001b[0;31m---------------------------------------------------------------------------\u001b[0m",
            "\u001b[0;31mNameError\u001b[0m                                 Traceback (most recent call last)",
            "\u001b[0;32m<ipython-input-34-afe276dd1c3a>\u001b[0m in \u001b[0;36m<cell line: 0>\u001b[0;34m()\u001b[0m\n\u001b[1;32m      3\u001b[0m \u001b[0;34m\u001b[0m\u001b[0m\n\u001b[1;32m      4\u001b[0m \u001b[0;31m# Reduce dimensions with t-SNE\u001b[0m\u001b[0;34m\u001b[0m\u001b[0;34m\u001b[0m\u001b[0m\n\u001b[0;32m----> 5\u001b[0;31m \u001b[0mtsne\u001b[0m \u001b[0;34m=\u001b[0m \u001b[0mTSNE\u001b[0m\u001b[0;34m(\u001b[0m\u001b[0mn_components\u001b[0m\u001b[0;34m=\u001b[0m\u001b[0;36m2\u001b[0m\u001b[0;34m,\u001b[0m \u001b[0mrandom_state\u001b[0m\u001b[0;34m=\u001b[0m\u001b[0;36m6\u001b[0m\u001b[0;34m,\u001b[0m \u001b[0mperplexity\u001b[0m\u001b[0;34m=\u001b[0m\u001b[0;36m5\u001b[0m\u001b[0;34m,\u001b[0m \u001b[0mn_iter\u001b[0m\u001b[0;34m=\u001b[0m\u001b[0;36m250\u001b[0m\u001b[0;34m)\u001b[0m\u001b[0;34m\u001b[0m\u001b[0;34m\u001b[0m\u001b[0m\n\u001b[0m\u001b[1;32m      6\u001b[0m \u001b[0mreduced_vectors\u001b[0m \u001b[0;34m=\u001b[0m \u001b[0mtsne\u001b[0m\u001b[0;34m.\u001b[0m\u001b[0mfit_transform\u001b[0m\u001b[0;34m(\u001b[0m\u001b[0mvectors\u001b[0m\u001b[0;34m)\u001b[0m\u001b[0;34m\u001b[0m\u001b[0;34m\u001b[0m\u001b[0m\n",
            "\u001b[0;31mNameError\u001b[0m: name 'TSNE' is not defined"
          ]
        }
      ],
      "source": [
        "# Extract vectors for the words in the vocabulary\n",
        "vectors = word_vectors[words[:10]]\n",
        "\n",
        "# Reduce dimensions with t-SNE\n",
        "tsne = TSNE(n_components=2, random_state=6, perplexity=5, n_iter=250)\n",
        "reduced_vectors = tsne.fit_transform(vectors)\n"
      ]
    },
    {
      "cell_type": "markdown",
      "metadata": {
        "id": "olcYJKn_gGGu"
      },
      "source": [
        "**Plot the Vectors**\n",
        "\n",
        "Plot the 2D points and label them with their corresponding words:"
      ]
    },
    {
      "cell_type": "code",
      "execution_count": null,
      "metadata": {
        "colab": {
          "base_uri": "https://localhost:8080/",
          "height": 1000
        },
        "id": "hL6Ey3dHgW9C",
        "outputId": "77ca426b-58aa-4fe6-d21b-e0dc4e5e81c3"
      },
      "outputs": [
        {
          "data": {
            "image/png": "[encoded data removed]",
            "text/plain": [
              "<Figure size 1600x1600 with 1 Axes>"
            ]
          },
          "metadata": {},
          "output_type": "display_data"
        }
      ],
      "source": [
        "# Create a scatter plot\n",
        "plt.figure(figsize=(16, 16))\n",
        "for i, word in enumerate(words[:10]):  # Limit to 100 words for clarity\n",
        "    x, y = reduced_vectors[i]\n",
        "    plt.scatter(x, y)\n",
        "    plt.text(x + 0.02, y + 0.02, word, fontsize=9)\n",
        "\n",
        "plt.title(\"t-SNE Visualization of Word2Vec Model\")\n",
        "plt.show()"
      ]
    },
    {
      "cell_type": "markdown",
      "source": [
        "# New section"
      ],
      "metadata": {
        "id": "2uOOX4lzQZpF"
      }
    },
    {
      "cell_type": "markdown",
      "metadata": {
        "id": "I-LI9VTQj71D"
      },
      "source": [
        "**Using PCA (Faster than t-SNE)**\n",
        "\n",
        "If you have a very large vocabulary, you can use PCA for faster dimensionality reduction:"
      ]
    },
    {
      "cell_type": "code",
      "execution_count": null,
      "metadata": {
        "id": "1r56ATLHkBS8"
      },
      "outputs": [],
      "source": [
        "from sklearn.decomposition import PCA"
      ]
    },
    {
      "cell_type": "code",
      "execution_count": null,
      "metadata": {
        "id": "sKsjjve8kMa6"
      },
      "outputs": [],
      "source": [
        "# Reduce dimensions with PCA\n",
        "pca = PCA(n_components=2)\n",
        "reduced_vectors = pca.fit_transform(vectors)"
      ]
    },
    {
      "cell_type": "code",
      "execution_count": null,
      "metadata": {
        "colab": {
          "base_uri": "https://localhost:8080/",
          "height": 1000
        },
        "id": "3k0_kDpPkPAT",
        "outputId": "94c3682b-7537-46f3-bb53-14dc2656f35c"
      },
      "outputs": [
        {
          "data": {
            "image/png": "[encoded data removed]",
            "text/plain": [
              "<Figure size 1600x1600 with 1 Axes>"
            ]
          },
          "metadata": {},
          "output_type": "display_data"
        }
      ],
      "source": [
        "# Plotting\n",
        "plt.figure(figsize=(16, 16))\n",
        "for i, word in enumerate(words[:10]):  # Plot only the first 100 words for clarity\n",
        "    x, y = reduced_vectors[i]\n",
        "    plt.scatter(x, y)\n",
        "    plt.text(x + 0.02, y + 0.02, word, fontsize=9)\n",
        "plt.title(\"PCA Visualization of Word2Vec Model\")\n",
        "plt.show()"
      ]
    }
  ],
  "metadata": {
    "colab": {
      "provenance": [],
      "toc_visible": true
    },
    "kernelspec": {
      "display_name": "Python 3",
      "name": "python3"
    },
    "language_info": {
      "name": "python"
    }
  },
  "nbformat": 4,
  "nbformat_minor": 0
}